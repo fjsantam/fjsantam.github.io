{
 "cells": [
  {
   "cell_type": "markdown",
   "metadata": {},
   "source": [
    "# Leaflet cluster map of talk locations\n",
    "\n",
    "Run this from the _talks/ directory, which contains .md files of all your talks. This scrapes the location YAML field from each .md file, geolocates it with geopy/Nominatim, and uses the getorg library to output data, HTML, and Javascript for a standalone cluster map."
   ]
  },
  {
   "cell_type": "code",
   "execution_count": 2,
   "metadata": {
    "collapsed": false,
    "jupyter": {
     "outputs_hidden": false
    }
   },
   "outputs": [
    {
     "name": "stdout",
     "output_type": "stream",
     "text": [
      "Requirement already satisfied: getorg in c:\\users\\franc\\frameworks\\python\\versions\\3.9\\lib\\site-packages (0.3.1)\n",
      "Requirement already satisfied: pygithub in c:\\users\\franc\\frameworks\\python\\versions\\3.9\\lib\\site-packages (from getorg) (1.55)\n",
      "Requirement already satisfied: retrying in c:\\users\\franc\\frameworks\\python\\versions\\3.9\\lib\\site-packages (from getorg) (1.3.3)\n",
      "Requirement already satisfied: geopy in c:\\users\\franc\\frameworks\\python\\versions\\3.9\\lib\\site-packages (from getorg) (2.2.0)\n",
      "Requirement already satisfied: geographiclib<2,>=1.49 in c:\\users\\franc\\frameworks\\python\\versions\\3.9\\lib\\site-packages (from geopy->getorg) (1.52)\n",
      "Requirement already satisfied: pynacl>=1.4.0 in c:\\users\\franc\\frameworks\\python\\versions\\3.9\\lib\\site-packages (from pygithub->getorg) (1.4.0)\n",
      "Requirement already satisfied: deprecated in c:\\users\\franc\\frameworks\\python\\versions\\3.9\\lib\\site-packages (from pygithub->getorg) (1.2.12)\n",
      "Requirement already satisfied: pyjwt>=2.0 in c:\\users\\franc\\frameworks\\python\\versions\\3.9\\lib\\site-packages (from pygithub->getorg) (2.1.0)\n",
      "Requirement already satisfied: requests>=2.14.0 in c:\\users\\franc\\frameworks\\python\\versions\\3.9\\lib\\site-packages (from pygithub->getorg) (2.25.1)\n",
      "Requirement already satisfied: six in c:\\users\\franc\\frameworks\\python\\versions\\3.9\\lib\\site-packages (from pynacl>=1.4.0->pygithub->getorg) (1.16.0)\n",
      "Requirement already satisfied: cffi>=1.4.1 in c:\\users\\franc\\frameworks\\python\\versions\\3.9\\lib\\site-packages (from pynacl>=1.4.0->pygithub->getorg) (1.14.6)\n",
      "Requirement already satisfied: pycparser in c:\\users\\franc\\frameworks\\python\\versions\\3.9\\lib\\site-packages (from cffi>=1.4.1->pynacl>=1.4.0->pygithub->getorg) (2.20)\n",
      "Requirement already satisfied: idna<3,>=2.5 in c:\\users\\franc\\frameworks\\python\\versions\\3.9\\lib\\site-packages (from requests>=2.14.0->pygithub->getorg) (2.10)\n",
      "Requirement already satisfied: certifi>=2017.4.17 in c:\\users\\franc\\frameworks\\python\\versions\\3.9\\lib\\site-packages (from requests>=2.14.0->pygithub->getorg) (2021.5.30)\n",
      "Requirement already satisfied: chardet<5,>=3.0.2 in c:\\users\\franc\\frameworks\\python\\versions\\3.9\\lib\\site-packages (from requests>=2.14.0->pygithub->getorg) (4.0.0)\n",
      "Requirement already satisfied: urllib3<1.27,>=1.21.1 in c:\\users\\franc\\frameworks\\python\\versions\\3.9\\lib\\site-packages (from requests>=2.14.0->pygithub->getorg) (1.26.5)\n",
      "Requirement already satisfied: wrapt<2,>=1.10 in c:\\users\\franc\\frameworks\\python\\versions\\3.9\\lib\\site-packages (from deprecated->pygithub->getorg) (1.12.1)\n"
     ]
    }
   ],
   "source": [
    "!pip install getorg --upgrade\n",
    "import glob\n",
    "import getorg\n",
    "from geopy import Nominatim"
   ]
  },
  {
   "cell_type": "code",
   "execution_count": 3,
   "metadata": {
    "collapsed": false,
    "jupyter": {
     "outputs_hidden": false
    }
   },
   "outputs": [],
   "source": [
    "g = glob.glob(\"*.md\")"
   ]
  },
  {
   "cell_type": "code",
   "execution_count": 4,
   "metadata": {
    "tags": []
   },
   "outputs": [],
   "source": [
    "geocoder = Nominatim(user_agent=\"personal-test\") #Nominatim()\n",
    "location_dict = {}\n",
    "location = \"\"\n",
    "permalink = \"\"\n",
    "title = \"\""
   ]
  },
  {
   "cell_type": "code",
   "execution_count": 5,
   "metadata": {
    "collapsed": false,
    "jupyter": {
     "outputs_hidden": false
    }
   },
   "outputs": [
    {
     "name": "stdout",
     "output_type": "stream",
     "text": [
      "Los Angeles CA, USA \n",
      " Los Angeles, California, United States\n",
      "San Diego CA, USA \n",
      " San Diego, San Diego County, California, United States\n",
      "San Diego CA, USA \n",
      " San Diego, San Diego County, California, United States\n",
      "Seattle WA, USA \n",
      " Seattle, King County, Washington, United States\n",
      "Portland OR, USA \n",
      " Portland, Multnomah County, Oregon, United States\n",
      "Austin TX, USA \n",
      " Austin, Travis County, Texas, 78701, United States\n",
      "Indianapolis IN, USA \n",
      " Indianapolis, Yates Township, Lake County, Michigan, 49642, United States\n",
      "Austin TX, USA \n",
      " Austin, Travis County, Texas, 78701, United States\n",
      "Montreal QC, Canada \n",
      " Montréal, Agglomération de Montréal, Montréal (06), Québec, Canada\n"
     ]
    }
   ],
   "source": [
    "\n",
    "for file in g:\n",
    "    with open(file, 'r') as f:\n",
    "        lines = f.read()\n",
    "        if lines.find('location: \"') > 1:\n",
    "            loc_start = lines.find('location: \"') + 11\n",
    "            lines_trim = lines[loc_start:]\n",
    "            loc_end = lines_trim.find('\"')\n",
    "            location = lines_trim[:loc_end]\n",
    "                            \n",
    "           \n",
    "        location_dict[location] = geocoder.geocode(location)\n",
    "        print(location, \"\\n\", location_dict[location])\n"
   ]
  },
  {
   "cell_type": "code",
   "execution_count": 6,
   "metadata": {
    "collapsed": false,
    "jupyter": {
     "outputs_hidden": false
    }
   },
   "outputs": [
    {
     "data": {
      "text/plain": [
       "'Written map to ../talkmap/'"
      ]
     },
     "execution_count": 6,
     "metadata": {},
     "output_type": "execute_result"
    }
   ],
   "source": [
    "m = getorg.orgmap.create_map_obj()\n",
    "getorg.orgmap.output_html_cluster_map(location_dict, folder_name=\"../talkmap\", hashed_usernames=False)"
   ]
  },
  {
   "cell_type": "code",
   "execution_count": null,
   "metadata": {
    "collapsed": true,
    "jupyter": {
     "outputs_hidden": true
    }
   },
   "outputs": [],
   "source": []
  },
  {
   "cell_type": "code",
   "execution_count": null,
   "metadata": {},
   "outputs": [],
   "source": []
  },
  {
   "cell_type": "code",
   "execution_count": null,
   "metadata": {},
   "outputs": [],
   "source": []
  }
 ],
 "metadata": {
  "anaconda-cloud": {},
  "kernelspec": {
   "display_name": "Python 3 (ipykernel)",
   "language": "python",
   "name": "python3"
  },
  "language_info": {
   "codemirror_mode": {
    "name": "ipython",
    "version": 3
   },
   "file_extension": ".py",
   "mimetype": "text/x-python",
   "name": "python",
   "nbconvert_exporter": "python",
   "pygments_lexer": "ipython3",
   "version": "3.9.5"
  }
 },
 "nbformat": 4,
 "nbformat_minor": 4
}
